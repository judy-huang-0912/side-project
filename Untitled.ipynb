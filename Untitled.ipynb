{
 "cells": [
  {
   "cell_type": "code",
   "execution_count": 5,
   "id": "24d00038-652b-4d1b-b320-da8c634f8c4c",
   "metadata": {},
   "outputs": [
    {
     "name": "stdout",
     "output_type": "stream",
     "text": [
      "[3, 4, 5]\n"
     ]
    }
   ],
   "source": [
    "#資料為程式得基礎\n",
    "#變數為儲存資料的自訂名稱\n",
    "#字串\n",
    "'hellow world'\n",
    "\"apple\"\n",
    "#布林值：表達True or False\n",
    "#列表（list)：有順序以及可變動的列表\n",
    "[3,4,5]\n",
    "['hellow','world']\n",
    "#列表（tuple):有順序不可以變動的列表\n",
    "(1,2,3)\n",
    "('hellow','world')\n",
    "#集合（set\n",
    "{3,4,5}\n",
    "{'hellow','world'}\n",
    "#字典 dictionary:key-value的配對 鍵對值的配對\n",
    "{'apple':'蘋果','dog':'狗'}\n",
    "x=3\n",
    "print([3,4,5])"
   ]
  },
  {
   "cell_type": "code",
   "execution_count": null,
   "id": "0c2da5e4-aae0-4f20-9d4d-1a1ea4526b41",
   "metadata": {},
   "outputs": [],
   "source": []
  }
 ],
 "metadata": {
  "kernelspec": {
   "display_name": "Python 3 (ipykernel)",
   "language": "python",
   "name": "python3"
  },
  "language_info": {
   "codemirror_mode": {
    "name": "ipython",
    "version": 3
   },
   "file_extension": ".py",
   "mimetype": "text/x-python",
   "name": "python",
   "nbconvert_exporter": "python",
   "pygments_lexer": "ipython3",
   "version": "3.12.4"
  }
 },
 "nbformat": 4,
 "nbformat_minor": 5
}
